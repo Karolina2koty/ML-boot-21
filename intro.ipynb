{
  "nbformat": 4,
  "nbformat_minor": 0,
  "metadata": {
    "colab": {
      "name": "intro.ipynb",
      "provenance": [],
      "collapsed_sections": [],
      "toc_visible": true,
      "authorship_tag": "ABX9TyNWSc5XLpyynElijfkOoopv",
      "include_colab_link": true
    },
    "kernelspec": {
      "name": "python3",
      "display_name": "Python 3"
    },
    "language_info": {
      "name": "python"
    }
  },
  "cells": [
    {
      "cell_type": "markdown",
      "metadata": {
        "id": "view-in-github",
        "colab_type": "text"
      },
      "source": [
        "<a href=\"https://colab.research.google.com/github/Karolina2koty/ML-boot-21/blob/main/intro.ipynb\" target=\"_parent\"><img src=\"https://colab.research.google.com/assets/colab-badge.svg\" alt=\"Open In Colab\"/></a>"
      ]
    },
    {
      "cell_type": "code",
      "execution_count": 1,
      "metadata": {
        "colab": {
          "base_uri": "https://localhost:8080/"
        },
        "id": "u8Wt38239qxA",
        "outputId": "866db518-7f11-4d9b-aafa-75c277972355"
      },
      "outputs": [
        {
          "output_type": "stream",
          "name": "stdout",
          "text": [
            "hello ka\n"
          ]
        }
      ],
      "source": [
        "print (\"hello ka\")"
      ]
    },
    {
      "cell_type": "markdown",
      "source": [
        "##cwiczenia\n"
      ],
      "metadata": {
        "id": "FDXbFVt6AKOY"
      }
    },
    {
      "cell_type": "code",
      "source": [
        "print (2+5)"
      ],
      "metadata": {
        "colab": {
          "base_uri": "https://localhost:8080/"
        },
        "id": "0Grjbwi2ANKE",
        "outputId": "99d997b4-15fe-4ad5-9edf-94a502e1e76a"
      },
      "execution_count": 2,
      "outputs": [
        {
          "output_type": "stream",
          "name": "stdout",
          "text": [
            "7\n"
          ]
        }
      ]
    },
    {
      "cell_type": "markdown",
      "source": [
        "### trzy"
      ],
      "metadata": {
        "id": "AdN3bwu-ASEd"
      }
    },
    {
      "cell_type": "markdown",
      "source": [
        "#jeden"
      ],
      "metadata": {
        "id": "pNdoL38aAdWl"
      }
    },
    {
      "cell_type": "code",
      "source": [
        ""
      ],
      "metadata": {
        "id": "o2tgqwsTAQPY"
      },
      "execution_count": null,
      "outputs": []
    }
  ]
}